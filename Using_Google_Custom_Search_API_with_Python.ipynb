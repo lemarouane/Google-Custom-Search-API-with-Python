{
  "cells": [
    {
      "cell_type": "markdown",
      "source": [
        "# **Overview**\n",
        "The Google Custom Search API allows developers to integrate Google's search capabilities into their applications. By using this API, you can programmatically search the web and retrieve results based on specific queries. This document provides a detailed guide on how to utilize the Google Custom Search API with Python.\n"
      ],
      "metadata": {
        "id": "IHiBXsvIVei6"
      }
    },
    {
      "cell_type": "markdown",
      "source": [
        "# **Prerequisites**\n",
        "Before you start using the Google Custom Search API, you need to ensure the following:\n",
        "\n",
        "1. Python Environment: You should have Python installed on your machine. You can download it from the official Python website.\n",
        "\n",
        "2. Requests Library: This library simplifies the process of making HTTP requests. If you haven't installed it yet, you can do so easily through your Python package manager.\n",
        "\n",
        "3. Google API Key: To access the Google Custom Search API, you will need an API key. You can obtain this by following these steps:\n",
        "\n",
        "  * Go to the Google Cloud Console and create a new project.\n",
        "  * Navigate to the \"APIs & Services\" section and enable the Google Custom Search API.\n",
        "  * In the \"Credentials\" section, create a new API key.\n",
        "4. Custom Search Engine ID: Along with the API key, you will also need a Custom Search Engine ID. You can create a new search engine by visiting the Custom Search Engine page on Google."
      ],
      "metadata": {
        "id": "_I3h8r6wWF64"
      }
    },
    {
      "cell_type": "markdown",
      "source": [
        "# **Understanding the Components**\n",
        "1. Importing Required Libraries\n",
        "To interact with the Google Custom Search API, you will need to import the necessary libraries in your Python script. The primary library used for making requests to the API is called requests.\n",
        "\n",
        "2. Defining the Search Function\n",
        "A function is created to encapsulate the logic for searching the web. This function takes a search query as input and returns the search results. It internally constructs the URL for the API request using the API key, the Custom Search Engine ID, and the query string.\n",
        "\n",
        "3. Constructing the API Request URL\n",
        "The API request URL is constructed using a specific format that includes the API key, the search engine ID, and the search query. This URL is essential for making requests to the Google Custom Search API.\n",
        "\n",
        "4. Making the API Call\n",
        "The next step involves sending a GET request to the constructed URL. This request is executed using the requests library, which handles the communication with the API.\n",
        "\n",
        "5. Handling the API Response\n",
        "After making the request, it is crucial to check the response status. If the response indicates success (typically a status code of 200), the function processes the returned JSON data, which contains the search results. If there is an error, an appropriate message is returned.\n",
        "\n",
        "6. Executing the Search\n",
        "To perform a search, you specify a query (e.g., \"imparfait\") and call the search function. This function then returns the results, which can be displayed or processed further.\n",
        "\n",
        "7. Displaying the Results\n",
        "The results returned from the API contain various details, including titles, snippets, and links for each search result. These details can be extracted and presented in a user-friendly format."
      ],
      "metadata": {
        "id": "8Pp1fLULWdVZ"
      }
    },
    {
      "cell_type": "markdown",
      "source": [
        "# **Example Use Case**\n",
        "For instance, if you want to search for the term \"imparfait,\" you would provide this term to your search function. The function would then retrieve relevant results, such as articles, definitions, and tutorials related to \"imparfait.\" Each result would include a title, a brief snippet describing the content, and a link to the source."
      ],
      "metadata": {
        "id": "0icA-FizWmIm"
      }
    },
    {
      "cell_type": "markdown",
      "source": [
        "# **Conclusion**\n",
        "The Google Custom Search API is a powerful tool for integrating web search capabilities into applications. By following the instructions outlined in this document, you can set up and use the API to retrieve search results programmatically. Make sure to handle your API key securely and be mindful of any usage limits set by Google to avoid unexpected charges."
      ],
      "metadata": {
        "id": "_PuDV2U-W-Il"
      }
    },
    {
      "cell_type": "markdown",
      "source": [
        "# **Important Considerations**\n",
        "API Usage Limits: The Google Custom Search API may have quotas and usage limits. It is essential to monitor your usage to avoid exceeding these limits, which could lead to additional charges.\n",
        "\n",
        "Security: Keep your API key confidential and avoid exposing it in publicly accessible code or repositories.\n",
        "\n",
        "API Documentation: For more detailed information, including advanced usage and features, refer to the official Google Custom Search API documentation.\n",
        "\n"
      ],
      "metadata": {
        "id": "dRH4F_ZWXFTC"
      }
    },
    {
      "cell_type": "code",
      "execution_count": 1,
      "metadata": {
        "id": "JrUutUfQjhnO"
      },
      "outputs": [],
      "source": [
        "import requests\n",
        "\n",
        "def search_web(query):\n",
        "    api_key = 'YOUR_API_KEY_HERE'\n",
        "    search_engine_id = 'PUT_YOUR_ID'\n",
        "    url = f\"https://www.googleapis.com/customsearch/v1?key={api_key}&cx={search_engine_id}&q={query}\"\n",
        "\n",
        "    response = requests.get(url)\n",
        "    if response.status_code == 200:\n",
        "        return response.json()  # Return the JSON response\n",
        "    else:\n",
        "        return {\"error\": \"Failed to retrieve data\"}\n"
      ]
    },
    {
      "cell_type": "code",
      "execution_count": 3,
      "metadata": {
        "id": "5CH47djqjj2H",
        "colab": {
          "base_uri": "https://localhost:8080/"
        },
        "outputId": "ffe97d89-f75e-4816-d193-40010c320902"
      },
      "outputs": [
        {
          "output_type": "stream",
          "name": "stdout",
          "text": [
            "Title: L'imparfait de l'indicatif | Alloprof\n",
            "Snippet: L'imparfait de l'indicatif est un temps de verbe simple qui sert à situer un élément de longue durée dans le passé dont la fin n'est pas précisée.\n",
            "Link: https://www.alloprof.qc.ca/fr/eleves/bv/francais/l-imparfait-de-l-indicatif-f1190\n",
            "\n",
            "Title: Hi, I am learning about using l'imparfait and passe compose ...\n",
            "Snippet: Hi! Yes, you used \"imparfait\" right here. I will point out that we don't say \"a apparu\", but \"est apparu\". Other than that, your sentence is well written!\n",
            "Link: https://www.alloprof.qc.ca/zonedentraide/discussion/32936/question\n",
            "\n",
            "Title: Le subjonctif imparfait | Secondaire | Alloprof\n",
            "Snippet: Le subjonctif imparfait est un temps de verbe simple du mode subjonctif exprimant un fait non accompli ayant lieu pendant ou après un autre fait dans un ...\n",
            "Link: https://www.alloprof.qc.ca/fr/eleves/bv/francais/le-subjonctif-imparfait-f1195\n",
            "\n",
            "Title: L'imparfait de l'indicatif | Primaire | Alloprof\n",
            "Snippet: L'imparfait est un temps de conjugaison utilisé pour décrire une action ou un fait qui a eu lieu dans le passé.\n",
            "Link: https://www.alloprof.qc.ca/fr/eleves/bv/francais/l-imparfait-de-l-indicatif-primaire-f1886\n",
            "\n",
            "Title: C'est quoi la difference entre l'imparfait et le plus-que-pa — Alloprof\n",
            "Snippet: Bonjour MelonDynamique8399, L'imparfait est un temps de verbe généralement utilisé pour situer dans le passé un fait de longue durée, qui n'est pas encore ...\n",
            "Link: https://www.alloprof.qc.ca/zonedentraide/discussion/64617/question\n",
            "\n",
            "Title: Comment savoir si l'imparfait ou le passé composé doit êt — Alloprof\n",
            "Snippet: Bonjour Kamino Adorable, L'imparfait sert généralement à situer dans le passé un fait de longue durée qui n'est pas terminé, tandis que le passé composé ...\n",
            "Link: https://www.alloprof.qc.ca/zonedentraide/discussion/25593/question\n",
            "\n",
            "Title: C est quoi un verbe a l imparfait ? — Alloprof\n",
            "Snippet: Un verbe à l'imparfait est un verbe qui est conjugué à l'imparfait. Généralement, on utilise ce temps de verbe pour parler d'une action au passé, qui est déjà ...\n",
            "Link: https://www.alloprof.qc.ca/zonedentraide/discussion/48481/question\n",
            "\n",
            "Title: Les temps composés | Alloprof\n",
            "Snippet: Imparfait. Tu conjuguais. Futur simple. Tu conjugueras. Conditionnel présent. Tu conjuguerais. Passé composé. Tu as conjugué. Passé antérieur. Tu eus conjugué.\n",
            "Link: https://www.alloprof.qc.ca/fr/eleves/bv/francais/les-temps-composes-f1199\n",
            "\n",
            "Title: Le système verbal d'un récit | Secondaire | Alloprof\n",
            "Snippet: Un récit peut faire appel au système verbal du passé ou du présent. Au passé, on emploie souvent le passé simple, l'imparfait, le plus-que-parfait, etc.\n",
            "Link: https://www.alloprof.qc.ca/fr/eleves/bv/francais/le-systeme-verbal-d-un-recit-f1059\n",
            "\n",
            "Title: Les temps simples | Alloprof\n",
            "Snippet: Les temps simples désignent des temps verbaux pour lesquels les verbes sont composés d'un seul terme. Le présent et l'imparfait en sont des exemples.\n",
            "Link: https://www.alloprof.qc.ca/fr/eleves/bv/francais/les-temps-simples-f1188\n",
            "\n"
          ]
        }
      ],
      "source": [
        "query = \"imparfait\"\n",
        "results = search_web(query)\n",
        "\n",
        "for item in results.get('items', []):\n",
        "    print(f\"Title: {item['title']}\")\n",
        "    print(f\"Snippet: {item['snippet']}\")\n",
        "    print(f\"Link: {item['link']}\\n\")\n"
      ]
    }
  ],
  "metadata": {
    "colab": {
      "provenance": []
    },
    "kernelspec": {
      "display_name": "Python 3",
      "name": "python3"
    },
    "language_info": {
      "name": "python"
    }
  },
  "nbformat": 4,
  "nbformat_minor": 0
}